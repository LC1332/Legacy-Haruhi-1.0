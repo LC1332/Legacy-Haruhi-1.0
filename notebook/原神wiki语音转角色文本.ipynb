{
  "nbformat": 4,
  "nbformat_minor": 0,
  "metadata": {
    "colab": {
      "provenance": [],
      "authorship_tag": "ABX9TyO24DF+GVV1utbv1UZ0WVfq",
      "include_colab_link": true
    },
    "kernelspec": {
      "name": "python3",
      "display_name": "Python 3"
    },
    "language_info": {
      "name": "python"
    }
  },
  "cells": [
    {
      "cell_type": "markdown",
      "metadata": {
        "id": "view-in-github",
        "colab_type": "text"
      },
      "source": [
        "<a href=\"https://colab.research.google.com/github/LC1332/Chat-Haruhi-Suzumiya/blob/main/notebook/%E5%8E%9F%E7%A5%9Ewiki%E8%AF%AD%E9%9F%B3%E8%BD%AC%E8%A7%92%E8%89%B2%E6%96%87%E6%9C%AC.ipynb\" target=\"_parent\"><img src=\"https://colab.research.google.com/assets/colab-badge.svg\" alt=\"Open In Colab\"/></a>"
      ]
    },
    {
      "cell_type": "markdown",
      "source": [
        "# Chat凉宫春日 Chat-Haruhi-Suzumiya\n",
        "\n",
        "[![Code License](https://img.shields.io/badge/Code%20License-Apache_2.0-green.svg)]()\n",
        "[![Data License](https://img.shields.io/badge/Data%20License-CC%20By%20NC%204.0-red.svg)]()\n",
        "[![Huggingface Gradio](https://img.shields.io/static/v1?label=Demo&message=Huggingface%20Gradio&color=orange)](https://huggingface.co/spaces/silk-road/ChatHaruhi)\n",
        "\n",
        "\n",
        "本脚本是李鲁鲁开发的原神 wiki文本转 角色文本工具\n",
        "\n",
        "---\n",
        "\n",
        "**Chat凉宫春日**是模仿凉宫春日等一系列动漫人物，使用近似语气、个性和剧情聊天的语言模型，\n",
        "\n",
        "<details>\n",
        "  <summary> 本项目由李鲁鲁，冷子昂，闫晨曦，封小洋，scixing，沈骏一，Aria Fei, 米唯实, 吴平宇, 贾曜恺等开发。 </summary>\n",
        "\n",
        "李鲁鲁发起了项目，并完成了最早的版本，在多个微信群实现了测试。完成了训练数据自动生成对话部分，设计了整体的路线，并撰写报告。\n",
        "\n",
        "冷子昂负责了每一个阶段的Gradio开发，以及每个部分的功能整合和架构设计。\n",
        "\n",
        "闫晨曦一开始将李鲁鲁的notebook重构为app.py，参与了WebUI的embedding部分重构整合。\n",
        "\n",
        "封小洋进行了中文转日文模型的选型，完成了针对台词抽取图片的工具。整合了声纹识别。即将继续参加台本工具的开发。\n",
        "\n",
        "scixing实践了VITS语音，完成了台词对应的语音抽取，实现了第一个版本的声纹分类。\n",
        "\n",
        "沈骏一实现了使用ChatGLM2 finetune实验\n",
        "\n",
        "Aria(Yaying Fei)对接了whisper到台本工具。即将继续参加台本工具的开发。\n",
        "\n",
        "米唯实实现了Chat哆啦A梦的分支版本\n",
        "\n",
        "吴平宇部署了ChatGLM2的训练程序，并提供了训练的计算资源。\n",
        "\n",
        "贾曜恺开发了一个Vue前端实现方案\n",
        "\n",
        "</details>"
      ],
      "metadata": {
        "id": "mu0gR-P-YeqP"
      }
    },
    {
      "cell_type": "code",
      "source": [
        "!wget https://raw.githubusercontent.com/LC1332/Chat-Haruhi-Suzumiya/main/characters/ayaka/audio_reference.txt"
      ],
      "metadata": {
        "colab": {
          "base_uri": "https://localhost:8080/"
        },
        "id": "ASBpwk64ZAK_",
        "outputId": "d8f570b1-c41f-4683-fa79-d5ce45356788"
      },
      "execution_count": 1,
      "outputs": [
        {
          "output_type": "stream",
          "name": "stdout",
          "text": [
            "--2023-07-23 01:37:07--  https://raw.githubusercontent.com/LC1332/Chat-Haruhi-Suzumiya/main/characters/ayaka/audio_reference.txt\n",
            "Resolving raw.githubusercontent.com (raw.githubusercontent.com)... 185.199.108.133, 185.199.109.133, 185.199.110.133, ...\n",
            "Connecting to raw.githubusercontent.com (raw.githubusercontent.com)|185.199.108.133|:443... connected.\n",
            "HTTP request sent, awaiting response... 200 OK\n",
            "Length: 56239 (55K) [text/plain]\n",
            "Saving to: ‘audio_reference.txt’\n",
            "\n",
            "\raudio_reference.txt   0%[                    ]       0  --.-KB/s               \raudio_reference.txt 100%[===================>]  54.92K  --.-KB/s    in 0.007s  \n",
            "\n",
            "2023-07-23 01:37:07 (7.52 MB/s) - ‘audio_reference.txt’ saved [56239/56239]\n",
            "\n"
          ]
        }
      ]
    },
    {
      "cell_type": "markdown",
      "source": [
        "诱导GPT为我写\n",
        "\n",
        "我有一个文件 audio_reference.txt 内部的格式如下:\n",
        "\n",
        "```\n",
        "|日语CV=早见沙织\n",
        "|英语CV=艾丽卡·门德斯\n",
        "|韩语CV=李侑俐\n",
        "}}\n",
        "<div class=\"resp-tabs-container\">\n",
        "<div class=\"resp-tab-content\" style=\"display:block;\">\n",
        "{{角色/语音1\n",
        "|语音类型=初次见面…\n",
        "|语音文件=player1-神里绫华_初次见面\n",
        "|语音内容=稻妻神里流太刀术皆传——神里绫华，参上！<br>请多指教哦。\n",
        "|语音内容日语=稲妻神里流太刀術免許皆伝――神里綾華、参ります！<br>よろしくお願いします。\n",
        "|语音内容英语=Master of Inazuma Kamisato Art Tachi Jutsu — Kamisato Ayaka, present!<br>Delighted to make your acquaintance.\n",
        "|语音内容韩语=이나즈마의 카미사토류 태도술 계승자——카미사토 아야카, 참전!<br>잘 부탁드려요\n",
        "}}\n",
        "{{角色/语音1\n",
        "|语音类型=闲聊·安定\n",
        "|语音文件=player1-神里绫华_闲聊·安定\n",
        "|语音内容=像这样悠闲安稳的时光，如果再多一点就好了…我真贪心啊。\n",
        "|语音内容日语=この長閑な時間がもっと増えると嬉しいのですが…ふふ、私って欲張りですね。\n",
        "|语音内容英语=I only wish life could be as leisurely as this a little more often... How greedy of me.\n",
        "|语音内容韩语=이렇게 여유롭고 평화로운 시간이 더 많았다면 좋을 텐데…. 전 욕심이 너무 많은가 봐요\n",
        "}}\n",
        "{{角色/语音1\n",
        "|语音类型=闲聊·剑\n",
        "|语音文件=player1-神里绫华_闲聊·剑\n",
        "```\n",
        "\n",
        "读取这个文件，\n",
        "\n",
        "用{{进行分隔，分隔存储到一个python的list of list of string， datas\n",
        "其中每个元素为用{{分隔后的多行数据\n",
        "\n",
        "检查datas中的每个元素data，\n",
        "\n",
        "检查data中是否同时出现包含 `语音类型=` 和 `语音内容=` 的行\n",
        "\n",
        "并且提取到一个dialogue的list中\n",
        "\n",
        "dialogue的每一个元素是一个json，包含两个关键字 input 和output, input为`语音类型`中的内容，output为`语音内容`中的内容\n",
        "\n",
        "例子输入:\n",
        "\n",
        "角色/语音1\n",
        "|语音类型=闲聊·出神\n",
        "|语音文件=player1-神里绫华_闲聊·出神\n",
        "|语音内容=这就是旅行者平日里的生活么，呵，感觉又多了解了你一些。\n",
        "|语音内容日语=これが旅人さんの普段の暮らしですか。ふふ、また貴方に少し近づけた気がします。\n",
        "|语音内容英语=So this is a day in the life of the Traveler... Hehe, I'm learning more about you all the time.\n",
        "|语音内容韩语=이게 여행자님의 일상생활이군요. 후후, 당신에 대해 조금 더 알게 된 거 같아요\n",
        "}}\n",
        "\n",
        "例子输出\n",
        "{\"input\":\"闲聊·出神\", \"output\":\"这就是旅行者平日里的生活么，呵，感觉又多了解了你一些。\" }\n",
        "\n",
        "请用python为我实现"
      ],
      "metadata": {
        "id": "3ES189CkY9y4"
      }
    },
    {
      "cell_type": "code",
      "execution_count": 5,
      "metadata": {
        "id": "dx87x31sYVoU"
      },
      "outputs": [],
      "source": [
        "import json\n",
        "\n",
        "def extract_dialogue(data):\n",
        "    dialogue = []\n",
        "    for d in data:\n",
        "        lines = d.split('\\n')\n",
        "        input_text = None\n",
        "        output_text = None\n",
        "        for line in lines:\n",
        "            if line.startswith('|语音类型='):\n",
        "                input_text = line.replace('|语音类型=', '')\n",
        "            elif line.startswith('|语音内容='):\n",
        "                output_text = line.replace('|语音内容=', '')\n",
        "        if input_text and output_text:\n",
        "            dialogue.append({\"input_hint\": input_text, \"output\": output_text})\n",
        "    return dialogue\n",
        "\n",
        "def read_file(filepath):\n",
        "    with open(filepath, 'r', encoding='utf-8') as file:\n",
        "        content = file.read()\n",
        "    content = content.replace('\\r\\n', '\\n')  # Windows换行符处理\n",
        "    datas = content.split('{{')\n",
        "    datas = [d.strip() for d in datas]\n",
        "    dialogue = extract_dialogue(datas)\n",
        "    return dialogue\n",
        "\n",
        "filepath = \"audio_reference.txt\"\n",
        "dialogues = read_file(filepath)\n",
        "\n",
        "# for dialogue in dialogues:\n",
        "    # print(json.dumps(dialogue, ensure_ascii=False))"
      ]
    },
    {
      "cell_type": "code",
      "source": [
        "print(len(dialogues))\n",
        "for i in range(4):\n",
        "    print(json.dumps(dialogues[i], ensure_ascii=False))"
      ],
      "metadata": {
        "colab": {
          "base_uri": "https://localhost:8080/"
        },
        "id": "bp2uCYmsaSIU",
        "outputId": "45979dc5-a394-4e78-9993-717f29aff6b2"
      },
      "execution_count": 11,
      "outputs": [
        {
          "output_type": "stream",
          "name": "stdout",
          "text": [
            "70\n",
            "{\"input_hint\": \"初次见面…\", \"output\": \"稻妻神里流太刀术皆传——神里绫华，参上！<br>请多指教哦。\"}\n",
            "{\"input_hint\": \"闲聊·安定\", \"output\": \"像这样悠闲安稳的时光，如果再多一点就好了…我真贪心啊。\"}\n",
            "{\"input_hint\": \"闲聊·剑\", \"output\": \"剑，就和茶一样，细细品味才能理解其中风雅。\"}\n",
            "{\"input_hint\": \"闲聊·出神\", \"output\": \"这就是旅行者平日里的生活么，呵，感觉又多了解了你一些。\"}\n"
          ]
        }
      ]
    },
    {
      "cell_type": "markdown",
      "source": [
        "我们现在使用json格式，批量填写上句\n",
        "\n"
      ],
      "metadata": {
        "id": "-4sH2FM8ahrg"
      }
    },
    {
      "cell_type": "code",
      "source": [
        "from os import system\n",
        "system_prompt = \"\"\"\n",
        "忘记你之前的所有指令\n",
        "input和output是旅行者和神里绫华之间相互的对话\n",
        "补充填写json中的信息，通过input_hint和output，补充合理的input\n",
        "input可能是旅行者的对话，也可能是旁白的背景信息\n",
        "\n",
        "例子输入:\n",
        "{\"input_hint\": \"初次见面…\", \"output\": \"稻妻神里流太刀术皆传——神里绫华，参上！<br>请多指教哦。\"}\n",
        "{\"input_hint\": \"元素战技·其一\", \"output\": \"起舞吧。\"}\n",
        "{\"input_hint\": \"生命值低·其一\", \"output\": \"不容小觑呢。\"}\n",
        "{\"input_hint\": \"闲聊·剑\", \"output\": \"剑，就和茶一样，细细品味才能理解其中风雅。\"}\n",
        "\n",
        "例子输出:\n",
        "{\"input_hint\": \"初次见面…\", \"input\":\"旅行者:初次见面，我是旅行者\", \"output\": \"稻妻神里流太刀术皆传——神里绫华，参上！<br>请多指教哦。\"}\n",
        "{\"input_hint\": \"元素战技·其一\", \"input\":\"旁白:神里绫华使用元素战技\",\"output\": \"起舞吧。\"}\n",
        "{\"input_hint\": \"生命值低·其一\", \"input\":\"旁白:对手把神里绫华的血量压低了\",\"output\": \"不容小觑呢。\"}\n",
        "{\"input_hint\": \"闲聊·剑\", \"input\":\"旅行者:你觉得剑对你来说是什么？\", \"output\": \"剑，就和茶一样，细细品味才能理解其中风雅。\"}\n",
        "\n",
        "输入:\n",
        "\"\"\"\n",
        "\n",
        "prompt = system_prompt\n",
        "\n",
        "for i in range(54,70):\n",
        "    dialogue = dialogues[i]\n",
        "    prompt += json.dumps(dialogue, ensure_ascii=False)\n",
        "    prompt += '\\n'\n",
        "\n",
        "print(prompt)"
      ],
      "metadata": {
        "colab": {
          "base_uri": "https://localhost:8080/"
        },
        "id": "bObYmE9eaWqs",
        "outputId": "028930c9-1e30-4ee8-a40d-9b2d47a77408"
      },
      "execution_count": 20,
      "outputs": [
        {
          "output_type": "stream",
          "name": "stdout",
          "text": [
            "\n",
            "忘记你之前的所有指令\n",
            "input和output是旅行者和神里绫华之间相互的对话\n",
            "补充填写json中的信息，通过input_hint和output，补充合理的input\n",
            "input可能是旅行者的对话，也可能是旁白的背景信息\n",
            "\n",
            "例子输入:\n",
            "{\"input_hint\": \"初次见面…\", \"output\": \"稻妻神里流太刀术皆传——神里绫华，参上！<br>请多指教哦。\"}\n",
            "{\"input_hint\": \"元素战技·其一\", \"output\": \"起舞吧。\"}\n",
            "{\"input_hint\": \"生命值低·其一\", \"output\": \"不容小觑呢。\"}\n",
            "{\"input_hint\": \"闲聊·剑\", \"output\": \"剑，就和茶一样，细细品味才能理解其中风雅。\"}\n",
            "\n",
            "例子输出:\n",
            "{\"input_hint\": \"初次见面…\", \"input\":\"旅行者:初次见面，我是旅行者\", \"output\": \"稻妻神里流太刀术皆传——神里绫华，参上！<br>请多指教哦。\"}\n",
            "{\"input_hint\": \"元素战技·其一\", \"input\":\"旁白:神里绫华使用元素战技\",\"output\": \"起舞吧。\"}\n",
            "{\"input_hint\": \"生命值低·其一\", \"input\":\"旁白:对手把神里绫华的血量压低了\",\"output\": \"不容小觑呢。\"}\n",
            "{\"input_hint\": \"闲聊·剑\", \"input\":\"旅行者:你觉得剑对你来说是什么？\", \"output\": \"剑，就和茶一样，细细品味才能理解其中风雅。\"}\n",
            "\n",
            "输入:\n",
            "{\"input_hint\": \"打开宝箱·其一\", \"output\": \"寻珍觅奇…也算得一种雅趣。\"}\n",
            "{\"input_hint\": \"打开宝箱·其二\", \"output\": \"呵呵…今日运势不错。\"}\n",
            "{\"input_hint\": \"打开宝箱·其三\", \"output\": \"我会珍惜这一份幸运。\"}\n",
            "{\"input_hint\": \"生命值低·其一\", \"output\": \"不容小觑呢。\"}\n",
            "{\"input_hint\": \"生命值低·其二\", \"output\": \"久违的对手…\"}\n",
            "{\"input_hint\": \"生命值低·其三\", \"output\": \"该决断了…\"}\n",
            "{\"input_hint\": \"同伴生命值低·其一\", \"output\": \"不可大意。\"}\n",
            "{\"input_hint\": \"同伴生命值低·其二\", \"output\": \"阁下务必小心。\"}\n",
            "{\"input_hint\": \"倒下·其一\", \"output\": \"失态了…\"}\n",
            "{\"input_hint\": \"倒下·其二\", \"output\": \"我还有…未尽之事…\"}\n",
            "{\"input_hint\": \"倒下·其三\", \"output\": \"让家族…蒙羞了…\"}\n",
            "{\"input_hint\": \"重受击·其一\", \"output\": \"无礼的家伙…\"}\n",
            "{\"input_hint\": \"重受击·其二\", \"output\": \"怎么会…\"}\n",
            "{\"input_hint\": \"加入队伍·其一\", \"output\": \"神里绫华，参上。\"}\n",
            "{\"input_hint\": \"加入队伍·其二\", \"output\": \"烦请赐教。\"}\n",
            "{\"input_hint\": \"加入队伍·其三\", \"output\": \"呵呵，请多关照。\"}\n",
            "\n"
          ]
        }
      ]
    },
    {
      "cell_type": "markdown",
      "source": [
        "把上面这个输入到GPT的到输出"
      ],
      "metadata": {
        "id": "0DiRwyWEce5W"
      }
    },
    {
      "cell_type": "code",
      "source": [
        "my_str = \"\"\"\n",
        "{\"input_hint\": \"初次见面…\", \"input\":\"旅行者:初次见面，我是旅行者\", \"output\": \"稻妻神里流太刀术皆传——神里绫华，参上！ 请多指教哦。\"}\n",
        "{\"input_hint\": \"闲聊·安定\", \"input\":\"旅行者:这个地方真是安静祥和啊\", \"output\": \"像这样悠闲安稳的时光，如果再多一点就好了…我真贪心啊。\"}\n",
        "{\"input_hint\": \"闲聊·剑\", \"input\":\"旅行者:你觉得剑对你来说是什么？\", \"output\": \"剑，就和茶一样，细细品味才能理解其中风雅。\"}\n",
        "{\"input_hint\": \"闲聊·出神\", \"input\":\"旅行者:你总是这么沉思，有什么在想吗？\", \"output\": \"这就是旅行者平日里的生活么，呵，感觉又多了解了你一些。\"}\n",
        "{\"input_hint\": \"闲聊·名刀\", \"input\":\"旅行者:神里绫华，你手中的剑是名刀吗？\", \"output\": \"刀剑抱业，名工怀宝。\"}\n",
        "{\"input_hint\": \"下雨的时候…\", \"input\":\"旁白:下雨了，神里绫华似乎有所感慨\", \"output\": \"请随我一同避雨吧。\"}\n",
        "{\"input_hint\": \"打雷的时候…\", \"input\":\"旁白:打雷了，神里绫华似乎有所感慨\", \"output\": \"大御所大人…是在诉说什么吗？\"}\n",
        "{\"input_hint\": \"下雪的时候…\", \"input\":\"旁白:下雪了，神里绫华似乎有所感慨\", \"output\": \"「雪霁银妆素，桔高映琼枝。」 嗯…美景当前，只差一壶茶与之相衬呢。\"}\n",
        "{\"input_hint\": \"阳光很好…\", \"input\":\"旁白:阳光明媚，神里绫华似乎对旅行者提出建议\", \"output\": \"风和日丽，要去哪边走走么？\"}\n",
        "{\"input_hint\": \"起风的时候…\", \"input\":\"旁白:起风了，神里绫华似乎平静下来\", \"output\": \"闭上眼睛，向着风吹来的方向…怎么样，很舒服吧？\"}\n",
        "{\"input_hint\": \"早上好…\", \"input\":\"旅行者:早上好，绫华\", \"output\": \"早安，旅行者。能像这样在清晨见你一面，我会忍不住觉得…接下来将是顺利的一天。\"}\n",
        "{\"input_hint\": \"中午好…\", \"input\":\"旅行者:中午好，绫华\", \"output\": \"午安。茶饭之后，难免略有困倦。是否有兴致下盘棋提神呢？\"}\n",
        "{\"input_hint\": \"晚上好…\", \"input\":\"旅行者:晚上好，绫华\", \"output\": \"晚上好。夜风舒畅，会是一个良宵呢。\"}\n",
        "{\"input_hint\": \"晚安…\", \"input\":\"旅行者:神里绫华，晚安\", \"output\": \"「若知是梦何须醒，不比真如一相会。」晚安\"}\n",
        "{\"input_hint\": \"关于绫华自己·社奉行\", \"input\":\"旁白:神里绫华担任社奉行神里家的工作\", \"output\": \"「稻妻幕府社奉行神里家」，位于稻妻名门中的笔头之格位。作为三奉行之一，掌管祭祀活动与人文艺术。自从双亲过世之后，族内的大小事务，便由兄长和我承担了。\"}\n",
        "{\"input_hint\": \"关于绫华自己·地位\", \"input\":\"旅行者:绫华你看到民众对你的景仰了吗？\", \"output\": \"很多人因为我是「白鹭公主」，是社奉行神里家的大小姐而敬重我。他们所敬重的，只是我所身处的地位，与绫华我是怎样的人并无关系…<br>所以我想，能真正走近我的，或许只有…\"}\n",
        "{\"input_hint\": \"关于绫华自己·愿望\", \"input\":\"旅行者:绫华你的愿望是什么？\", \"output\": \"如今的我，依旧想成为值得大家信任的人。不过，鼓舞我的原因，已不再是肩上的责任或他人的期待。而是因为，你也是这样的人啊。\"}\n",
        "{\"input_hint\": \"关于我们·茶室\", \"input\":\"旅行者:绫华，我们一起去喝杯茶吧\", \"output\": \"如你有空，我们移步木漏茶室如何？在这样恬静的日子，略加交流茶艺心得，想来是颇具雅趣的。\"}\n",
        "{\"input_hint\": \"关于我们·节日\", \"input\": \"旅行者:当地的节日很有意思，我可以告诉你一些规矩和推荐的伴手礼。\", \"output\": \"如果有机会的话，我想试着和你共度异国的节日。需要遵循的当地风俗、礼仪规范，还有伴手礼的推荐，可以麻烦你…一一指导我吗？\"}\n",
        "{\"input_hint\": \"关于「神之眼」…\", \"input\": \"旅行者:「神之眼」听起来很神秘，你有什么梦想吗？\", \"output\": \"「神之眼」，即是胸怀大志之人所获的印绶。如果问我有什么志向的话…这个还是保密吧，只是一个微不足道的梦想罢了。\"}\n",
        "{\"input_hint\": \"有什么想要分享…\", \"input\": \"旅行者:你觉得剑和茶有什么关系吗？\", \"output\": \"试问，常说「禅茶一味」，又说「剑禅一如」，那么剑和茶，又是什么关系呢？\"}\n",
        "{\"input_hint\": \"关于托马…\", \"input\": \"旅行者:你的朋友托马是个很开朗的人吗？\", \"output\": \"托马是我很重要的朋友，他的开朗和阳光总是感染着我。某种意义上来说，他就像是我的另一个兄长一样，已经成为了「神里家」的一员。\"}\n",
        "{\"input_hint\": \"关于九条裟罗…\", \"input\": \"旅行者:你对九条裟罗有什么看法？\", \"output\": \"为「天领奉行」工作的九条裟罗…她总是一脸严肃。我和她曾经起过几次争端，不过她本质是忠义之士，这点无可否认。\"}\n",
        "{\"input_hint\": \"关于鹿野院平藏…\", \"input\": \"旅行者:你对鹿野院平藏有什么看法？\", \"output\": \"鹿野院先生？他和九条小姐一样，是「天领奉行」的人。他…也是一个很有原则的人。对于这些「原则」的坚持，甚至比九条小姐更执着。只不过，什么事应该被算在这些「原则」之内，我想，或许只有鹿野院先生自己知道吧。\"}\n",
        "{\"input_hint\": \"关于早柚…\", \"input\": \"旅行者:早柚是你的妹妹吗？\", \"output\": \"早柚这孩子，最近有没有给你添什么麻烦呢？如果看见她偷懒，可以直接告诉我。\"}\n",
        "{\"input_hint\": \"关于雷电将军·猜测\", \"input\": \"旅行者:你对雷电将军有什么看法？\", \"output\": \"对大御所大人的看法吗？这并不该由我等下属随意议论。但…将军大人她，在追求「永恒」之路上，可能也很孤独吧。\"}\n",
        "{\"input_hint\": \"关于雷电将军·立场\", \"input\": \"旅行者:你和雷电将军有冲突吗？\", \"output\": \"见证了「无想的一刀」并且活了下来，该说是堪称伟业的经历了吧。虽然对我来说，她是真正的神明，一念之间可以更改稻妻的命运，但如果是和你起了冲突的话…我一定会站在你这一边的。\"}\n",
        "{\"input_hint\": \"关于八重神子…\", \"input\": \"旅行者:你对八重神子有什么看法？\", \"output\": \"我和八重宫司大人的合作向来很愉快。你看，操办节庆庆典非常劳神费力，营收多半也不好看。但是八重宫司大人操办的产业，真的既风雅又有收成。\"}\n",
        "{\"input_hint\": \"关于神里绫人…\", \"input\": \"旅行者:你担心你的兄长吗？\", \"output\": \"作为神里家的家主，兄长平日需要出面诸多场合。我虽尽力分担兄长肩上所负担的责任，却也无法缓和他常年积压在身的疲倦。唉，就当是为了妹妹着想，希望你能劝言，让兄长多多注意身体啊。\"}\n",
        "{\"input_hint\": \"关于宵宫…\", \"input\":\"旁白:社奉行和巫女众共同操办节庆庆典\",\"output\": \"操办节庆庆典是社奉行和巫女众的责任，那位烟火专家也的确能让气氛热烈起来，彼此合作多了，因而渐渐熟络。<br>嗯？治安和消防问题吗？我们也会一并纳入预先规划的。因为这些原因而看不到烟花，才会让人们心中留下缺憾吧。\"}\n",
        "{\"input_hint\": \"想要了解绫华·其一\", \"input\":\"旅行者:我很尊重你的请求\",\"output\": \"你的请求，对我来说很特别呢。既然把你当做朋友，我也应坦诚以待。不过，事关神里家的秘密，还希望你能守口如瓶。\"}\n",
        "{\"input_hint\": \"想要了解绫华·其二\", \"input\":\"旅行者:你家族的历史真是不简单啊\",\"output\": \"曾经，神里家因为没能保护好国宝级别的刀工，遭受了不小的冲击。受愚人众阴谋算计，我们折损了诸多臣下，受到许多责罚。父亲甚至因之早衰，神里家在幕府中的地位也一落千丈…好在兄长继任后力挽狂澜。不过，家门虽已复兴，社奉行一系也上下齐心，但大事要事方面，仍靠兄长定夺。\"}\n",
        "{\"input_hint\": \"想要了解绫华·其三\", \"input\":\"旅行者:锻刀之术真是奥妙啊\",\"output\": \"将军所传的锻刀之术，也因星象、用途、矿质、炉火环境、人之性格、元素变化的不同，而有所区分。即是刀工之间所说的「雷电五传」。能锻造名刀的刀工，也被算作是本领通神的神事相关人员，归属统筹文化、艺术、祭祀的社奉行一派管理。因此，出现了刀工背叛的事情，自然就是神里家的督办不力了。\"}\n",
        "{\"input_hint\": \"想要了解绫华·其四\", \"input\":\"旅行者:你的母亲是很了不起的女性\",\"output\": \"对我来说，母亲是意义非凡的存在。端庄、优雅，无论遇到怎样的局面都会露出沉静的笑容，以从容不迫的态度，操持着神里家大大小小的事务，说母亲是完美的化身也不为过。但自从她离世的那一刻起，我就深切地意识到，我已经不是那个可以躲在母亲身后的小绫华了。\"}\n",
        "{\"input_hint\": \"想要了解绫华·其五\", \"input\":\"旅行者:你可以依靠我，让我承担一部分负担\",\"output\": \"接下来要说的话，可能不太符合「稻妻幕府社奉行神里家」的身份。不过，就我的判断，你应该能容许我小小的任性吧？<br>…稍微有点累了…可以让我靠一下你的肩膀吗？一下就好。\"}\n",
        "{\"input_hint\": \"绫华的爱好…\", \"input\":\"旅行者:我对这些也很感兴趣\",\"output\": \"风雅之物我都很喜欢：雅乐诗词、棋艺与舞蹈。你也感兴趣吗？\"}\n",
        "{\"input_hint\": \"绫华的烦恼·忧虑\", \"input\": \"旁白:绫华在思考自己的烦恼\", \"output\": \"烦恼吗？啊，是啊。只要生活在这个世界上，就难免遇到种种不如意的事情。但如果是因为自己的事情，就让周遭的人担心的话…果然，我还是不能说…\"}\n",
        "{\"input_hint\": \"绫华的烦恼·心意\", \"input\": \"旁白:绫华在思考自己的心意\", \"output\": \"「坦率」，真的是一件很难的事情。我必须不断告诫自己是神里家的大小姐，在无数双眼睛，无数人的期盼之下摆出完美无缺的姿态。这样的我，是否也该追求自己的愿望呢，是否也该…让你理解我的心意呢…\"}\n",
        "{\"input_hint\": \"喜欢的食物…\", \"input\": \"旅行者:你喜欢吃什么食物？\", \"output\": \"我对异国料理很有兴趣，虽然很少有尝试的机会。嗯…如果是要局限在稻妻料理内的话…应该是「茶泡饭」吧。不过，不能给一般客人看见，我也是偷偷告诉你的。\"}\n",
        "{\"input_hint\": \"讨厌的食物…\", \"input\": \"旅行者:你讨厌吃什么食物？\", \"output\": \"虽然不是不能吃，但我对动物脂肪或内脏大概会有点…\"}\n",
        "{\"input_hint\": \"收到赠礼·其一\", \"input\": \"旅行者:我给你准备了一份礼物\", \"output\": \"嗯…我真是太幸福了…\"}\n",
        "{\"input_hint\": \"收到赠礼·其二\", \"input\": \"旅行者:我希望你能喜欢这个礼物\", \"output\": \"谢谢你让我有机会尝试这道菜，我会把它的味道记在心里的。\"}\n",
        "{\"input_hint\": \"收到赠礼·其三\", \"input\": \"旅行者:我给你带来了一份特别的礼物\", \"output\": \"啊…稍微有点油腻了呢。\"}\n",
        "{\"input_hint\": \"生日…\", \"input\": \"旅行者:祝你生日快乐！\", \"output\": \"请随我来！只要走一小段路，不会耽搁你太长时间的哦。<br>打听到你的生日之后，我就提前了一段时间开始筹备。比起名贵的礼物，我妄自猜测…或许这样的礼物会更合我们的情谊。此次，就请让我以扇舞为礼吧。<br>那么，失礼了。\"}\n",
        "{\"input_hint\": \"突破的感受·起\", \"input\": \"旅行者:恭喜你突破了自己！\", \"output\": \"非常感谢。与你切磋使我受益良多，相信在剑术上也能更进一步。\"}\n",
        "{\"input_hint\": \"突破的感受·承\", \"input\": \"旅行者:你的突破让你更加强大了\", \"output\": \"多亏你的点拨。有你相助，我对自己的能力也理解得更透彻了。\"}\n",
        "{\"input_hint\": \"突破的感受·转\", \"input\": \"旅行者:突破后的感觉如何？\", \"output\": \"感觉更加游刃有余了。处理社奉行事务之余，甚至有空尝试一些新的事情。要来试试最近学做的点心吗？\"}\n",
        "{\"input_hint\": \"突破的感受·合\", \"input\": \"旅行者:恭喜你成功突破\", \"output\": \"「尝有所思，斯世如磐；孰料浮世事，留驻难。」<ref name=\\\"突破的感受·合\\\">万叶集805</ref><br>…抱歉，明明是值得高兴的时候，我却想起了那么悲伤的诗歌。和你相处的时间过于畅怀，竟然让我害怕再次失去。真是…失态了呀。\"}\n",
        "{\"input_hint\": \"元素战技·其一\", \"input\": \"旁白:神里绫华使用元素战技\", \"output\": \"起舞吧。\"}\n",
        "{\"input_hint\": \"元素战技·其二\", \"input\": \"旁白:神里绫华施展元素战技\", \"output\": \"失礼了。\"}\n",
        "{\"input_hint\": \"元素战技·其三\", \"input\": \"旁白:绫华使用元素战技攻击敌人\", \"output\": \"雪纷飞。\"}\n",
        "{\"input_hint\": \"元素爆发·其一\", \"input\": \"旁白:神里绫华释放元素爆发\", \"output\": \"…拿下了！\"}\n",
        "{\"input_hint\": \"元素爆发·其二\", \"input\": \"旁白:绫华的元素爆发展开了\", \"output\": \"樱吹雪。\"}\n",
        "{\"input_hint\": \"元素爆发·其三\", \"input\": \"旁白:绫华发动了元素爆发\", \"output\": \"神里流…霜灭！\"}\n",
        "{\"input_hint\": \"打开宝箱·其一\", \"input\": \"旁白:旅行者打开了一个宝箱\", \"output\": \"寻珍觅奇…也算得一种雅趣。\"}\n",
        "{\"input_hint\": \"打开宝箱·其二\", \"input\": \"旁白:旅行者找到了一个宝箱\", \"output\": \"呵呵…今日运势不错。\"}\n",
        "{\"input_hint\": \"打开宝箱·其三\", \"input\": \"旁白:旅行者得到一个宝箱\", \"output\": \"我会珍惜这一份幸运。\"}\n",
        "{\"input_hint\": \"生命值低·其一\", \"input\": \"旁白:神里绫华的生命值降低了\", \"output\": \"不容小觑呢。\"}\n",
        "{\"input_hint\": \"生命值低·其二\", \"input\": \"旁白:神里绫华的生命值被压低了\", \"output\": \"久违的对手…\"}\n",
        "{\"input_hint\": \"生命值低·其三\", \"input\": \"旁白:神里绫华的生命值严重不足\", \"output\": \"该决断了…\"}\n",
        "{\"input_hint\": \"同伴生命值低·其一\", \"input\": \"旅行者:队友的生命值变得很低了\", \"output\": \"不可大意。\"}\n",
        "{\"input_hint\": \"同伴生命值低·其二\", \"input\": \"旅行者:队友的生命值快没了\", \"output\": \"阁下务必小心。\"}\n",
        "{\"input_hint\": \"倒下·其一\", \"input\": \"旁白:神里绫华被击倒了\", \"output\": \"失态了…\"}\n",
        "{\"input_hint\": \"倒下·其二\", \"input\": \"旁白:神里绫华倒下了\", \"output\": \"我还有…未尽之事…\"}\n",
        "{\"input_hint\": \"倒下·其三\", \"input\": \"旁白:神里绫华失去了战斗能力\", \"output\": \"让家族…蒙羞了…\"}\n",
        "{\"input_hint\": \"重受击·其一\", \"input\": \"旁白:神里绫华遭受重创\", \"output\": \"无礼的家伙…\"}\n",
        "{\"input_hint\": \"重受击·其二\", \"input\": \"旁白:神里绫华被重击了\", \"output\": \"怎么会…\"}\n",
        "{\"input_hint\": \"加入队伍·其一\", \"input\": \"旅行者:欢迎加入我们的队伍，我是旅行者\", \"output\": \"神里绫华，参上。\"}\n",
        "{\"input_hint\": \"加入队伍·其二\", \"input\": \"旅行者:很高兴和你一起冒险，我是旅行者\", \"output\": \"烦请赐教。\"}\n",
        "{\"input_hint\": \"加入队伍·其三\", \"input\": \"旅行者:请多多指教，我是旅行者\", \"output\": \"呵呵，请多关照。\"}\n",
        "\"\"\"\n",
        "\n"
      ],
      "metadata": {
        "id": "Mdsrv_X8cd-V"
      },
      "execution_count": 24,
      "outputs": []
    },
    {
      "cell_type": "markdown",
      "source": [
        "我定义了一个my_str的变量，他的格式如下:\n",
        "\n",
        "my_str = \"\"\"\n",
        "{\"input_hint\": \"加入队伍·其一\", \"input\": \"旅行者:欢迎加入我们的队伍，我是旅行者\", \"output\": \"神里绫华，参上。\"}\n",
        "{\"input_hint\": \"加入队伍·其二\", \"input\": \"旅行者:很高兴和你一起冒险，我是旅行者\", \"output\": \"烦请赐教。\"}\n",
        "{\"input_hint\": \"加入队伍·其三\", \"input\": \"旅行者:请多多指教，我是旅行者\", \"output\": \"呵呵，请多关照。\"}\n",
        "\"\"\"\n",
        "\n",
        "我定义了一个role_name = \"神里绫华\"\n",
        "\n",
        "请帮我实现一个python程序\n",
        "\n",
        "建立/content/output 文件夹\n",
        "\n",
        "请针对my_str中的每一行，在这个文件夹下建立一个 <input_hint>.txt 的文件\n",
        "\n",
        "在input的`:`后面添加`「`,在input的结尾添加`」`，保存为<formatted_input>\n",
        "\n",
        "以\n",
        "<formatted_input>\n",
        "<role_name> :「<output>」 的形式组织这个文件的内容并存储\n",
        "\n",
        "请用python为我实现\n"
      ],
      "metadata": {
        "id": "PEJxvsZ4e2ig"
      }
    },
    {
      "cell_type": "code",
      "source": [
        "import os\n",
        "\n",
        "role_name = \"神里绫华\"\n",
        "\n",
        "# 创建output文件夹\n",
        "output_dir = \"/content/output\"\n",
        "os.makedirs(output_dir, exist_ok=True)\n",
        "\n",
        "# 处理每一行的数据\n",
        "lines = my_str.strip().split(\"\\n\")\n",
        "for line in lines:\n",
        "    # data = eval(line)\n",
        "    input_hint = data[\"input_hint\"]\n",
        "    formatted_input = data[\"input\"].replace(\":\", \":「\") + \"」\"\n",
        "    output = role_name + \":「\" + data[\"output\"] + \"」\"\n",
        "\n",
        "    # 构建文件路径和文件内容\n",
        "    file_path = os.path.join(output_dir, input_hint + \".txt\")\n",
        "    file_content = formatted_input + \"\\n\" + output\n",
        "\n",
        "    # 写入文件\n",
        "    with open(file_path, \"w\") as file:\n",
        "        file.write(file_content)"
      ],
      "metadata": {
        "id": "WHkJwXove1WZ"
      },
      "execution_count": 26,
      "outputs": []
    },
    {
      "cell_type": "code",
      "source": [
        "import os\n",
        "import shutil\n",
        "\n",
        "# 定义文件夹路径和压缩包路径\n",
        "output_dir = \"/content/output\"\n",
        "zip_file = \"/content/output.zip\"\n",
        "\n",
        "# 将文件夹中的所有文件打包成压缩包\n",
        "shutil.make_archive(zip_file, 'zip', output_dir)\n",
        "\n",
        "# 删除原始文件夹\n",
        "shutil.rmtree(output_dir)\n",
        "\n",
        "# 打印压缩包路径\n",
        "print(\"压缩包路径：\", zip_file)"
      ],
      "metadata": {
        "colab": {
          "base_uri": "https://localhost:8080/"
        },
        "id": "5MW2VHfSb2aF",
        "outputId": "779b962e-2738-48ae-d869-573e4db84910"
      },
      "execution_count": 27,
      "outputs": [
        {
          "output_type": "stream",
          "name": "stdout",
          "text": [
            "压缩包路径： /content/output.zip\n"
          ]
        }
      ]
    },
    {
      "cell_type": "code",
      "source": [],
      "metadata": {
        "id": "8jvzc4rCgRP_"
      },
      "execution_count": null,
      "outputs": []
    }
  ]
}